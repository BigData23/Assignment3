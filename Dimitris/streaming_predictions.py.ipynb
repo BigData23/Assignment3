{
 "cells": [
  {
   "cell_type": "code",
   "execution_count": 1,
   "metadata": {},
   "outputs": [
    {
     "data": {
      "text/html": [
       "<style>.container { width:95% !important; }</style>"
      ],
      "text/plain": [
       "<IPython.core.display.HTML object>"
      ]
     },
     "metadata": {},
     "output_type": "display_data"
    }
   ],
   "source": [
    "from IPython.core.display import display, HTML\n",
    "display(HTML(\"<style>.container { width:95% !important; }</style>\"))"
   ]
  },
  {
   "cell_type": "code",
   "execution_count": 2,
   "metadata": {},
   "outputs": [],
   "source": [
    "from threading import Thread\n",
    "\n",
    "class StreamingThread(Thread):\n",
    "    def __init__(self, ssc):\n",
    "        Thread.__init__(self)\n",
    "        self.ssc = ssc\n",
    "    def run(self):\n",
    "        ssc.start()\n",
    "        ssc.awaitTermination()\n",
    "    def stop(self):\n",
    "        print('----- Stopping... this may take a few seconds -----')\n",
    "        self.ssc.stop(stopSparkContext=False, stopGraceFully=True)"
   ]
  },
  {
   "cell_type": "code",
   "execution_count": 3,
   "metadata": {},
   "outputs": [],
   "source": [
    "import os\n",
    "os.environ[\"PYSPARK_PYTHON\"]=\"/usr/bin/python3\""
   ]
  },
  {
   "cell_type": "code",
   "execution_count": 4,
   "metadata": {
    "scrolled": true
   },
   "outputs": [
    {
     "data": {
      "text/html": [
       "\n",
       "        <div>\n",
       "            <p><b>SparkContext</b></p>\n",
       "\n",
       "            <p><a href=\"http://192.168.2.16:4041\">Spark UI</a></p>\n",
       "\n",
       "            <dl>\n",
       "              <dt>Version</dt>\n",
       "                <dd><code>v2.4.4</code></dd>\n",
       "              <dt>Master</dt>\n",
       "                <dd><code>local[*]</code></dd>\n",
       "              <dt>AppName</dt>\n",
       "                <dd><code>Streaming predictions</code></dd>\n",
       "            </dl>\n",
       "        </div>\n",
       "        "
      ],
      "text/plain": [
       "<SparkContext master=local[*] appName=Streaming predictions>"
      ]
     },
     "execution_count": 4,
     "metadata": {},
     "output_type": "execute_result"
    }
   ],
   "source": [
    "from pyspark import SparkContext\n",
    "sc = SparkContext(appName=\"Streaming predictions\")\n",
    "sc"
   ]
  },
  {
   "cell_type": "code",
   "execution_count": 5,
   "metadata": {},
   "outputs": [
    {
     "data": {
      "text/html": [
       "\n",
       "            <div>\n",
       "                <p><b>SparkSession - in-memory</b></p>\n",
       "                \n",
       "        <div>\n",
       "            <p><b>SparkContext</b></p>\n",
       "\n",
       "            <p><a href=\"http://192.168.2.16:4041\">Spark UI</a></p>\n",
       "\n",
       "            <dl>\n",
       "              <dt>Version</dt>\n",
       "                <dd><code>v2.4.4</code></dd>\n",
       "              <dt>Master</dt>\n",
       "                <dd><code>local[*]</code></dd>\n",
       "              <dt>AppName</dt>\n",
       "                <dd><code>Streaming predictions</code></dd>\n",
       "            </dl>\n",
       "        </div>\n",
       "        \n",
       "            </div>\n",
       "        "
      ],
      "text/plain": [
       "<pyspark.sql.session.SparkSession at 0x7f7aa1148da0>"
      ]
     },
     "execution_count": 5,
     "metadata": {},
     "output_type": "execute_result"
    }
   ],
   "source": [
    "from pyspark.sql import SparkSession\n",
    "spark = SparkSession(sc)\n",
    "spark"
   ]
  },
  {
   "cell_type": "code",
   "execution_count": 6,
   "metadata": {},
   "outputs": [],
   "source": [
    "from pyspark.streaming import StreamingContext\n",
    "from pyspark.sql import Row\n",
    "from pyspark.sql.functions import udf, struct, array, col, lit\n",
    "from pyspark.sql.types import StringType"
   ]
  },
  {
   "cell_type": "code",
   "execution_count": 7,
   "metadata": {},
   "outputs": [],
   "source": [
    "from difflib import unified_diff\n",
    "\n",
    "def make_diff(old, new):\n",
    "    additions = []\n",
    "    deletions = []\n",
    "    generator = unified_diff(old.split(), new.split())\n",
    "    for l in generator:\n",
    "        if l.startswith('+'):\n",
    "            additions.append(l[1:])\n",
    "        elif l.startswith('-'):\n",
    "            deletions.append(l[1:])\n",
    "    additions = ' '.join(additions)\n",
    "    deletions = ' '.join(deletions)\n",
    "    return (additions, deletions)"
   ]
  },
  {
   "cell_type": "code",
   "execution_count": 8,
   "metadata": {},
   "outputs": [],
   "source": [
    "from pyspark.sql import Row\n",
    "from pyspark.sql.functions import udf, struct, array, col, lit, lower\n",
    "\n",
    "profanities = [s.strip() for s in open(\"/home/jimmy/Documents/courses/spark/profanities.txt\", \"r\").readlines()]\n",
    "profanities = sc.broadcast(profanities)\n",
    "\n",
    "@udf(\"string\")\n",
    "def additions(old, new):\n",
    "    (additions, _) = make_diff(old, new)\n",
    "    return additions\n",
    "\n",
    "@udf(\"string\")\n",
    "def deletions(old, new):\n",
    "    (_, deletions) = make_diff(old, new)\n",
    "    return deletions\n",
    "\n",
    "@udf(\"long\")\n",
    "def longest_same_character_sequence(additions):\n",
    "    ans, curr = 0, 1\n",
    "    previous = None\n",
    "    for c in additions:\n",
    "        if c == previous:\n",
    "            curr += 1\n",
    "        else:\n",
    "            curr = 1\n",
    "        if curr > ans:\n",
    "            ans = curr\n",
    "        previous = c\n",
    "    return ans\n",
    "\n",
    "@udf(\"long\")\n",
    "def count_profanities(additions):\n",
    "    count = 0\n",
    "    additions = additions\n",
    "    for profanity in profanities.value:\n",
    "        count += additions.count(profanity)\n",
    "    return count\n",
    "\n",
    "def process_dataframe(df):\n",
    "    return df \\\n",
    "        .withColumn(\"additions\", lower(additions(\"text_old\", \"text_new\"))) \\\n",
    "        .withColumn(\"deletions\", lower(deletions(\"text_old\", \"text_new\"))) \\\n",
    "        .drop(\"text_old\") \\\n",
    "        .withColumn(\"profanities\", count_profanities(\"additions\")) \\\n",
    "        .withColumn(\"longest_same_character_sequence\", longest_same_character_sequence(\"additions\"))"
   ]
  },
  {
   "cell_type": "code",
   "execution_count": 9,
   "metadata": {},
   "outputs": [],
   "source": [
    "globals()['models_loaded'] = False\n",
    "\n",
    "text_columns = ['text_new', 'additions', 'deletions']\n",
    "input_columns = text_columns + ['profanities','longest_same_character_sequence']\n",
    "pipelines = {}\n",
    "\n",
    "from pyspark.ml.feature import VectorAssembler\n",
    "assembler = VectorAssembler(inputCols=input_columns, outputCol=\"features\")\n",
    "\n",
    "def process(time, rdd):\n",
    "    if rdd.isEmpty():\n",
    "        return\n",
    "    \n",
    "    print(\"========= %s =========\" % str(time))\n",
    "    \n",
    "    # Convert to data frame\n",
    "    df = spark.read.json(rdd)\n",
    "    df.show()\n",
    "    \n",
    "    df = process_dataframe(df)\n",
    "    \n",
    "    # Load in the model if not yet loaded:\n",
    "    if not globals()['models_loaded']:\n",
    "        from pyspark.ml.feature import StringIndexerModel, IndexToString\n",
    "        from pyspark.ml import PipelineModel\n",
    "\n",
    "        for col in text_columns:\n",
    "            globals()[f'pipeline_{col}'] = PipelineModel.load(f'/home/jimmy/Documents/courses/spark/notebooks/pipeline_{col}')\n",
    "        globals()[f'pipeline_label'] = StringIndexerModel.load(f'/home/jimmy/Documents/courses/spark/notebooks/pipeline_label')\n",
    "        \n",
    "        globals()['model'] = PipelineModel.load(f'/home/jimmy/Documents/courses/spark/notebooks/pipeline_classifier')\n",
    "        globals()['models_loaded'] = True\n",
    "        \n",
    "    # Transform dataframe using the loaded pipelines\n",
    "    for col in text_columns:\n",
    "        df = globals()[f'pipeline_{col}'].transform(df).drop(col, 'temp1', 'temp2', 'temp3').withColumnRenamed('temp4', col)\n",
    "    df = globals()[f'pipeline_label'].transform(df)\n",
    "    \n",
    "    df = assembler.transform(df)\n",
    "    \n",
    "    # And then predict using the loaded model: \n",
    "    df_result = globals()['model'].transform(df)\n",
    "    df_result.show()"
   ]
  },
  {
   "cell_type": "code",
   "execution_count": 10,
   "metadata": {},
   "outputs": [],
   "source": [
    "ssc = StreamingContext(sc, 10)"
   ]
  },
  {
   "cell_type": "code",
   "execution_count": 11,
   "metadata": {
    "scrolled": true
   },
   "outputs": [],
   "source": [
    "lines = ssc.socketTextStream(\"seppe.net\", 7778)\n",
    "lines.foreachRDD(process)"
   ]
  },
  {
   "cell_type": "code",
   "execution_count": 12,
   "metadata": {
    "scrolled": false
   },
   "outputs": [
    {
     "name": "stdout",
     "output_type": "stream",
     "text": [
      "========= 2020-05-12 00:39:20 =========\n",
      "+---------------+------+--------------------+--------------------+--------------------+--------------------+--------------------+\n",
      "|        comment| label|           name_user|            text_new|            text_old|          title_page|            url_page|\n",
      "+---------------+------+--------------------+--------------------+--------------------+--------------------+--------------------+\n",
      "|(unwanted edit)|unsafe|2001:bb6:a20:e558...|{{more footnotes|...|{{more footnotes|...|Clontarf and Hill...|//en.wikipedia.or...|\n",
      "|               |  safe|           Genarians|{{Infobox person\n",
      "...|{{Infobox person\n",
      "...|    Micheline Presle|//en.wikipedia.or...|\n",
      "+---------------+------+--------------------+--------------------+--------------------+--------------------+--------------------+\n",
      "\n",
      "+---------------+------+--------------------+--------------------+--------------------+-----------+-------------------------------+--------------------+--------------------+--------------------+------+--------------------+--------------------+--------------------+----------+--------------+\n",
      "|        comment| label|           name_user|          title_page|            url_page|profanities|longest_same_character_sequence|            text_new|           additions|           deletions|target|            features|       rawPrediction|         probability|prediction|predictedLabel|\n",
      "+---------------+------+--------------------+--------------------+--------------------+-----------+-------------------------------+--------------------+--------------------+--------------------+------+--------------------+--------------------+--------------------+----------+--------------+\n",
      "|(unwanted edit)|unsafe|2001:bb6:a20:e558...|Clontarf and Hill...|//en.wikipedia.or...|          0|                              2|(262144,[525,1881...|(262144,[32802,63...|(262144,[32802,16...|   1.0|(786434,[525,1881...|[1.59215886115447...|[0.70017129408390...|       0.0|          safe|\n",
      "|               |  safe|           Genarians|    Micheline Presle|//en.wikipedia.or...|          1|                              2|(262144,[97,181,3...|(262144,[63823,78...|(262144,[128825,1...|   0.0|(786434,[97,181,3...|[1.87804278682097...|[0.80635848581990...|       0.0|          safe|\n",
      "+---------------+------+--------------------+--------------------+--------------------+-----------+-------------------------------+--------------------+--------------------+--------------------+------+--------------------+--------------------+--------------------+----------+--------------+\n",
      "\n",
      "========= 2020-05-12 00:39:30 =========\n",
      "+---------------+------+--------------------+--------------------+--------------------+------------------+--------------------+\n",
      "|        comment| label|           name_user|            text_new|            text_old|        title_page|            url_page|\n",
      "+---------------+------+--------------------+--------------------+--------------------+------------------+--------------------+\n",
      "|       clean up|  safe|      CaradhrasAiguo|{{Infobox settlem...|{{Infobox settlem...|Tacheng Prefecture|//en.wikipedia.or...|\n",
      "|    →‎Reception|  safe|       EclecticEnnui|{{Infobox film\n",
      "| ...|{{Infobox film\n",
      "| ...|   Arkansas (film)|//en.wikipedia.or...|\n",
      "|(unwanted edit)|unsafe|2001:bb6:a20:e558...|{{unref|date=Marc...|{{unref|date=Marc...| Tralee Celtic GAA|//en.wikipedia.or...|\n",
      "|               |  safe|             Handoto|{{pp-blp|small=ye...|{{pp-blp|small=ye...|       TheOdd1sOut|//en.wikipedia.or...|\n",
      "+---------------+------+--------------------+--------------------+--------------------+------------------+--------------------+\n",
      "\n",
      "+---------------+------+--------------------+------------------+--------------------+-----------+-------------------------------+--------------------+--------------------+--------------------+------+--------------------+--------------------+--------------------+----------+--------------+\n",
      "|        comment| label|           name_user|        title_page|            url_page|profanities|longest_same_character_sequence|            text_new|           additions|           deletions|target|            features|       rawPrediction|         probability|prediction|predictedLabel|\n",
      "+---------------+------+--------------------+------------------+--------------------+-----------+-------------------------------+--------------------+--------------------+--------------------+------+--------------------+--------------------+--------------------+----------+--------------+\n",
      "|       clean up|  safe|      CaradhrasAiguo|Tacheng Prefecture|//en.wikipedia.or...|          2|                              2|(262144,[188,440,...|(262144,[11319,12...|(262144,[19285,22...|   0.0|(786434,[188,440,...|[2.80817353486658...|[0.92613370083976...|       0.0|          safe|\n",
      "|    →‎Reception|  safe|       EclecticEnnui|   Arkansas (film)|//en.wikipedia.or...|          0|                              2|(262144,[14,25,20...|(262144,[32672,63...|(262144,[1251,126...|   0.0|(786434,[14,25,20...|[1.38671829701614...|[0.64071126799861...|       0.0|          safe|\n",
      "|(unwanted edit)|unsafe|2001:bb6:a20:e558...| Tralee Celtic GAA|//en.wikipedia.or...|          0|                              2|(262144,[1454,472...|(262144,[63823,23...|(262144,[133157,1...|   1.0|(786434,[1454,472...|[1.36707248069052...|[0.66817794723935...|       0.0|          safe|\n",
      "|               |  safe|             Handoto|       TheOdd1sOut|//en.wikipedia.or...|          0|                              3|(262144,[103,284,...|(262144,[10286,12...|(262144,[407,4031...|   0.0|(786434,[103,284,...|[1.69790661674482...|[0.72177672375283...|       0.0|          safe|\n",
      "+---------------+------+--------------------+------------------+--------------------+-----------+-------------------------------+--------------------+--------------------+--------------------+------+--------------------+--------------------+--------------------+----------+--------------+\n",
      "\n",
      "========= 2020-05-12 00:39:40 =========\n",
      "+------------+------+--------------------+--------------------+--------------------+--------------+--------------------+\n",
      "|     comment| label|           name_user|            text_new|            text_old|    title_page|            url_page|\n",
      "+------------+------+--------------------+--------------------+--------------------+--------------+--------------------+\n",
      "|            |vandal|       97.124.210.66|{{short descripti...|{{short descripti...|      Fox Life|//en.wikipedia.or...|\n",
      "|(not needed)|unsafe|2001:bb6:a20:e558...|{{More citations ...|{{More citations ...|Tuam Stars GAA|//en.wikipedia.or...|\n",
      "+------------+------+--------------------+--------------------+--------------------+--------------+--------------------+\n",
      "\n",
      "+------------+------+--------------------+--------------+--------------------+-----------+-------------------------------+--------------------+--------------------+--------------------+------+--------------------+--------------------+--------------------+----------+--------------+\n",
      "|     comment| label|           name_user|    title_page|            url_page|profanities|longest_same_character_sequence|            text_new|           additions|           deletions|target|            features|       rawPrediction|         probability|prediction|predictedLabel|\n",
      "+------------+------+--------------------+--------------+--------------------+-----------+-------------------------------+--------------------+--------------------+--------------------+------+--------------------+--------------------+--------------------+----------+--------------+\n",
      "|            |vandal|       97.124.210.66|      Fox Life|//en.wikipedia.or...|          0|                              3|(262144,[411,571,...|(262144,[5645,100...|(262144,[37534,40...|   2.0|(786434,[411,571,...|[1.33044281240321...|[0.55068708597947...|       0.0|          safe|\n",
      "|(not needed)|unsafe|2001:bb6:a20:e558...|Tuam Stars GAA|//en.wikipedia.or...|          0|                              2|(262144,[1371,195...|(262144,[19126,63...|(262144,[85593,85...|   1.0|(786434,[1371,195...|[1.45190768070397...|[0.69858748369586...|       0.0|          safe|\n",
      "+------------+------+--------------------+--------------+--------------------+-----------+-------------------------------+--------------------+--------------------+--------------------+------+--------------------+--------------------+--------------------+----------+--------------+\n",
      "\n"
     ]
    },
    {
     "name": "stdout",
     "output_type": "stream",
     "text": [
      "========= 2020-05-12 00:39:50 =========\n",
      "+--------------------+------+-------------+--------------------+--------------------+--------------------+--------------------+\n",
      "|             comment| label|    name_user|            text_new|            text_old|          title_page|            url_page|\n",
      "+--------------------+------+-------------+--------------------+--------------------+--------------------+--------------------+\n",
      "|                    |vandal|97.124.210.66|{{Infobox televis...|{{Infobox televis...|The Stranger (202...|//en.wikipedia.or...|\n",
      "|    Fix PMC warnings|  safe|      Keith D|{{Infobox scienti...|{{Infobox scienti...|          Müge Çevik|//en.wikipedia.or...|\n",
      "|                    |vandal|97.124.210.66|{{multiple issues...|{{multiple issues...|List of assets ow...|//en.wikipedia.or...|\n",
      "|(Re-arranged endo...|unsafe|    Smart1965|{{Use dmy dates|d...|{{Use dmy dates|d...|2020 Conservative...|//en.wikipedia.or...|\n",
      "|                    |  safe|    Genarians|{{Infobox person\n",
      "...|{{Infobox person\n",
      "...|      Bert I. Gordon|//en.wikipedia.or...|\n",
      "+--------------------+------+-------------+--------------------+--------------------+--------------------+--------------------+\n",
      "\n",
      "+--------------------+------+-------------+--------------------+--------------------+-----------+-------------------------------+--------------------+--------------------+--------------------+------+--------------------+--------------------+--------------------+----------+--------------+\n",
      "|             comment| label|    name_user|          title_page|            url_page|profanities|longest_same_character_sequence|            text_new|           additions|           deletions|target|            features|       rawPrediction|         probability|prediction|predictedLabel|\n",
      "+--------------------+------+-------------+--------------------+--------------------+-----------+-------------------------------+--------------------+--------------------+--------------------+------+--------------------+--------------------+--------------------+----------+--------------+\n",
      "|                    |vandal|97.124.210.66|The Stranger (202...|//en.wikipedia.or...|          0|                              2|(262144,[1429,195...|(262144,[61008,63...|(262144,[24537,44...|   2.0|(786434,[1429,195...|[1.60951270105962...|[0.74403875689055...|       0.0|          safe|\n",
      "|    Fix PMC warnings|  safe|      Keith D|          Müge Çevik|//en.wikipedia.or...|          0|                              2|(262144,[1266,195...|(262144,[55519,63...|(262144,[72505,89...|   0.0|(786434,[1266,195...|[1.31604918213954...|[0.60543310329181...|       0.0|          safe|\n",
      "|                    |vandal|97.124.210.66|List of assets ow...|//en.wikipedia.or...|          0|                              2|(262144,[29,211,4...|(262144,[3904,381...|(262144,[38194,52...|   2.0|(786434,[29,211,4...|[-0.2241979875653...|[0.02755764510065...|       1.0|        unsafe|\n",
      "|(Re-arranged endo...|unsafe|    Smart1965|2020 Conservative...|//en.wikipedia.or...|          1|                              2|(262144,[1,36,179...|(262144,[812,4055...|(262144,[4055,176...|   1.0|(786434,[1,36,179...|[6.50090722630924...|[0.99988180816155...|       0.0|          safe|\n",
      "|                    |  safe|    Genarians|      Bert I. Gordon|//en.wikipedia.or...|          0|                              2|(262144,[1227,135...|(262144,[63823,14...|(262144,[90757,16...|   0.0|(786434,[1227,135...|[0.97234089946220...|[0.43151232498094...|       1.0|        unsafe|\n",
      "+--------------------+------+-------------+--------------------+--------------------+-----------+-------------------------------+--------------------+--------------------+--------------------+------+--------------------+--------------------+--------------------+----------+--------------+\n",
      "\n",
      "========= 2020-05-12 00:40:00 =========\n",
      "+--------------------+-----+---------+--------------------+--------------------+--------------+--------------------+\n",
      "|             comment|label|name_user|            text_new|            text_old|    title_page|            url_page|\n",
      "+--------------------+-----+---------+--------------------+--------------------+--------------+--------------------+\n",
      "|convert special c...| safe|   Beland|{{Use dmy dates|d...|{{Use dmy dates|d...|Deep biosphere|//en.wikipedia.or...|\n",
      "+--------------------+-----+---------+--------------------+--------------------+--------------+--------------------+\n",
      "\n",
      "+--------------------+-----+---------+--------------+--------------------+-----------+-------------------------------+--------------------+--------------------+--------------------+------+--------------------+--------------------+--------------------+----------+--------------+\n",
      "|             comment|label|name_user|    title_page|            url_page|profanities|longest_same_character_sequence|            text_new|           additions|           deletions|target|            features|       rawPrediction|         probability|prediction|predictedLabel|\n",
      "+--------------------+-----+---------+--------------+--------------------+-----------+-------------------------------+--------------------+--------------------+--------------------+------+--------------------+--------------------+--------------------+----------+--------------+\n",
      "|convert special c...| safe|   Beland|Deep biosphere|//en.wikipedia.or...|          0|                              2|(262144,[434,445,...|(262144,[15284,34...|(262144,[11335,13...|   0.0|(786434,[434,445,...|[1.54901637243779...|[0.73055672537625...|       0.0|          safe|\n",
      "+--------------------+-----+---------+--------------+--------------------+-----------+-------------------------------+--------------------+--------------------+--------------------+------+--------------------+--------------------+--------------------+----------+--------------+\n",
      "\n"
     ]
    }
   ],
   "source": [
    "ssc_t = StreamingThread(ssc)\n",
    "ssc_t.start()"
   ]
  },
  {
   "cell_type": "code",
   "execution_count": null,
   "metadata": {
    "scrolled": true
   },
   "outputs": [],
   "source": [
    "ssc_t.stop()"
   ]
  },
  {
   "cell_type": "code",
   "execution_count": null,
   "metadata": {},
   "outputs": [],
   "source": []
  }
 ],
 "metadata": {
  "kernelspec": {
   "display_name": "Python 3",
   "language": "python",
   "name": "python3"
  },
  "language_info": {
   "codemirror_mode": {
    "name": "ipython",
    "version": 3
   },
   "file_extension": ".py",
   "mimetype": "text/x-python",
   "name": "python",
   "nbconvert_exporter": "python",
   "pygments_lexer": "ipython3",
   "version": "3.6.9"
  },
  "toc": {
   "base_numbering": 1,
   "nav_menu": {},
   "number_sections": true,
   "sideBar": true,
   "skip_h1_title": false,
   "title_cell": "Table of Contents",
   "title_sidebar": "Contents",
   "toc_cell": false,
   "toc_position": {},
   "toc_section_display": true,
   "toc_window_display": false
  }
 },
 "nbformat": 4,
 "nbformat_minor": 2
}
